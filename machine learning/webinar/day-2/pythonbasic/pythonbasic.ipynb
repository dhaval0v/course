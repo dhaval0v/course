{
  "nbformat": 4,
  "nbformat_minor": 0,
  "metadata": {
    "colab": {
      "name": "pythonbasic.ipynb",
      "provenance": []
    },
    "kernelspec": {
      "name": "python3",
      "display_name": "Python 3"
    },
    "language_info": {
      "name": "python"
    }
  },
  "cells": [
    {
      "cell_type": "markdown",
      "metadata": {
        "id": "Z3B-WCI53-Q2"
      },
      "source": [
        "Basic Python - Add\n"
      ]
    },
    {
      "cell_type": "code",
      "metadata": {
        "colab": {
          "base_uri": "https://localhost:8080/"
        },
        "id": "_sBEAtUw3Zt8",
        "outputId": "04ea4589-a69d-4d2d-b12a-67b2519aada3"
      },
      "source": [
        "a=5\n",
        "b=6\n",
        "c=a+b\n",
        "print(c)"
      ],
      "execution_count": null,
      "outputs": [
        {
          "output_type": "stream",
          "text": [
            "11\n"
          ],
          "name": "stdout"
        }
      ]
    },
    {
      "cell_type": "markdown",
      "metadata": {
        "id": "bHxaNHR24U8m"
      },
      "source": [
        "If Condition\n"
      ]
    },
    {
      "cell_type": "code",
      "metadata": {
        "colab": {
          "base_uri": "https://localhost:8080/"
        },
        "id": "p7pMyRpY4Xrt",
        "outputId": "9149788d-ec85-4def-c8ce-9b0f9076d7c4"
      },
      "source": [
        "a=100\n",
        "b=100\n",
        "\n",
        "if(a<b):\n",
        "  print(\"a is less than b\")\n",
        "elif(a==b):\n",
        "  print(\"a is equal to b\")\n",
        "  print(\"b is equal to a\")\n",
        "else:\n",
        "  print(\"a is not less than b\")"
      ],
      "execution_count": null,
      "outputs": [
        {
          "output_type": "stream",
          "text": [
            "a is equal to b\n",
            "b is equal to a\n"
          ],
          "name": "stdout"
        }
      ]
    },
    {
      "cell_type": "markdown",
      "metadata": {
        "id": "YIxrhnDG4zbE"
      },
      "source": [
        "while"
      ]
    },
    {
      "cell_type": "code",
      "metadata": {
        "colab": {
          "base_uri": "https://localhost:8080/"
        },
        "id": "QZ1yKCFm4303",
        "outputId": "be029a80-5fd7-4782-b2e7-2a150ededa75"
      },
      "source": [
        "i=0\n",
        "while(i<10):\n",
        "  print(i)\n",
        "  i+=1"
      ],
      "execution_count": null,
      "outputs": [
        {
          "output_type": "stream",
          "text": [
            "0\n",
            "1\n",
            "2\n",
            "3\n",
            "4\n",
            "5\n",
            "6\n",
            "7\n",
            "8\n",
            "9\n"
          ],
          "name": "stdout"
        }
      ]
    },
    {
      "cell_type": "markdown",
      "metadata": {
        "id": "ksklJls95G-3"
      },
      "source": [
        "for range"
      ]
    },
    {
      "cell_type": "code",
      "metadata": {
        "colab": {
          "base_uri": "https://localhost:8080/"
        },
        "id": "TXpM_cbZ5I3R",
        "outputId": "5af569db-dfc8-4bcb-fce6-016dc2f08690"
      },
      "source": [
        "for i in range(11,1,-2):\n",
        "  print(i)"
      ],
      "execution_count": null,
      "outputs": [
        {
          "output_type": "stream",
          "text": [
            "11\n",
            "9\n",
            "7\n",
            "5\n",
            "3\n"
          ],
          "name": "stdout"
        }
      ]
    }
  ]
}